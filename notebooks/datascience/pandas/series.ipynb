{
 "cells": [
  {
   "cell_type": "markdown",
   "metadata": {},
   "source": [
    "### pandas series\n",
    "- series are numpy arrays to make them eaiser to work with.\n",
    "- series also contain an index and an optional name\n",
    "- two or more series grouped togather form a data frame\n"
   ]
  },
  {
   "cell_type": "code",
   "execution_count": 29,
   "metadata": {},
   "outputs": [],
   "source": [
    "import pandas as pd\n",
    "import numpy as np"
   ]
  },
  {
   "cell_type": "code",
   "execution_count": 26,
   "metadata": {},
   "outputs": [
    {
     "data": {
      "text/plain": [
       "1"
      ]
     },
     "execution_count": 26,
     "metadata": {},
     "output_type": "execute_result"
    }
   ],
   "source": [
    "sales = [0, 5, 10, 15, 20, 25, 30, 35, 40, 45]\n",
    "# series is stored as a 2D array containing the index and the values\n",
    "sales_series = pd.Series(sales, name='Sales')\n",
    "# series must be one dimensional\n",
    "# below gives an array because it is two dimensional 3x2 matrix\n",
    "pd.Series(np.arange(6).reshape(3, 2), name='Sales')"
   ]
  },
  {
   "cell_type": "markdown",
   "metadata": {},
   "source": [
    "#### Series properties"
   ]
  },
  {
   "cell_type": "code",
   "execution_count": 40,
   "metadata": {},
   "outputs": [
    {
     "data": {
      "text/plain": [
       "15.138251770487457"
      ]
     },
     "execution_count": 40,
     "metadata": {},
     "output_type": "execute_result"
    }
   ],
   "source": [
    "# values attribute returns the values of the series\n",
    "# values is an ndarray so you can use numpy functions on it\n",
    "sales_series.values\n",
    "# index attribute returns the index of the series\n",
    "sales_series.index\n",
    "# name attribute returns the name of the series\n",
    "sales_series.name\n",
    "# dtype attribute returns the datatype of the series\n",
    "sales_series.dtype\n",
    "# shape attribute returns the shape of the series\n",
    "sales_series.shape\n",
    "# size attribute returns the size of the series\n",
    "sales_series.size\n",
    "# ndim attribute returns the number of dimensions of the series\n",
    "sales_series.ndim\n",
    "# mean method returns the mean of the series\n",
    "sales_series.mean()\n",
    "# median method returns the median of the series\n",
    "sales_series.median()\n",
    "# std method returns the standard deviation of the series\n",
    "sales_series.std()\n",
    "# crux is that you can use numpy functions on pandas series"
   ]
  },
  {
   "cell_type": "markdown",
   "metadata": {},
   "source": [
    "### pandas data types\n",
    "- Expands mostly on their base python and numpy equivalants\n",
    "- bool\n",
    "- int64\n",
    "- float64\n",
    "- boolean: Nullable boolean\n",
    "- Int64: Nullable int\n",
    "- Float64: Nullable float\n",
    "- catagory; Maps catagorical data to a numeric array for efficiency\n",
    "- datatime64\n",
    "- timedelta: duration between two dates or time\n",
    "- period: a span of time"
   ]
  },
  {
   "cell_type": "code",
   "execution_count": 168,
   "metadata": {},
   "outputs": [
    {
     "data": {
      "text/plain": [
       "0    False\n",
       "1     True\n",
       "2    False\n",
       "3     True\n",
       "4    False\n",
       "5     True\n",
       "6    False\n",
       "7     True\n",
       "8    False\n",
       "9     True\n",
       "Name: Sales, dtype: bool"
      ]
     },
     "execution_count": 168,
     "metadata": {},
     "output_type": "execute_result"
    }
   ],
   "source": [
    "# series can be accessed using an index\n",
    "sales_series[0] = 100\n",
    "# you can apply custom label to the data\n",
    "sales_series['a'] = 200\n",
    "sales_series['a']\n",
    "\n",
    "# you can use it like dictoinary\n",
    "sales = [0, 5, 10, 15, 20, 25, 30, 35, 40, 45]\n",
    "labels = ['a', 'b', 'c', 'd', 'e', 'f', 'g', 'h', 'i', 'j']\n",
    "sales_series = pd.Series(sales, index=labels, name='Sales')\n",
    "sales_series\n",
    "# slicing using labels\n",
    "sales_series['a':'d']\n",
    "# slice using index from index 1 to end get the alternate element\n",
    "sales_series[1::2]\n",
    "\n",
    "# The iloc attribute is used to access the data using the index\n",
    "# df.iloc[row_index, column_index]\n",
    "# df.iloc[row_index : row_index]\n",
    "# row from 0 to 4\n",
    "sales_series.iloc[0:4]\n",
    "\n",
    "# The loc attribute is used to access the data using the label\n",
    "# df.loc[row_label, column_label]\n",
    "# df.loc[row_label : row_label]\n",
    "# row from a to d\n",
    "sales_series.loc['a':'d']\n",
    "# this will reset the index of the series\n",
    "sales_series.reset_index(drop=True)\n",
    "\n",
    "# indexes can be duplicate\n",
    "data = [0, 5, 10, 15, 20, 25, 30, 35, 40, 45]\n",
    "labels = ['a', 'a', 'c', 'd', 'e', 'f', 'g', 'h', 'i', 'a']\n",
    "data_series = pd.Series(data, index=labels, name='Sales')\n",
    "# returns all the values with label a in a series\n",
    "data_series.loc['a']\n",
    "# this will make the data as dataframe\n",
    "#data_series.reset_index()\n",
    "# this will keep the data as the series but resets the labels\n",
    "data_series.reset_index(drop=True)\n",
    "data_series.iloc[:1]\n",
    "\n",
    "data = [0, 5, 10, 15, 20, 25, 30, 35, 40, 45]\n",
    "labels = ['a', 'b', 'c', 'd', 'e', 'f', 'g', 'h', 'i', 'j']\n",
    "data_series = pd.Series(data, index=labels, name='Sales')\n",
    "# filter the data where the value is greater than 5\n",
    "data_series[data_series > 5]\n",
    "# filter using the loc attribute\n",
    "mask = (data_series.gt(5)) & (data_series < 30)\n",
    "data_series.loc[mask]\n",
    "\n",
    "# you can use the where method to filter the data\n",
    "data_series.where(mask)\n",
    "\n",
    "# sorting series\n",
    "newseries = data_series.sort_values(ascending=False)\n",
    "newseries\n",
    "# sort the series by index\n",
    "data_series.sort_index(ascending=False, inplace=True)\n",
    "data_series\n",
    "\n",
    "# Numeric operation on series\n",
    "data = [0, 5, 10, 15, 20, 25, 30, 35, 40, 45]\n",
    "data_series = pd.Series(data, name='Sales')\n",
    "# add 5 to all the values\n",
    "add_series = data_series.add(5)\n",
    "add_series\n",
    "# subtract 5 from all the values\n",
    "sub_series = data_series.sub(5)\n",
    "sub_series\n",
    "\n",
    "# add two series\n",
    "data = [0, 5, 10, 15, 20, 25, 30, 35, 40, 45, 50]\n",
    "data_series1 = pd.Series(data, name='Sales1')\n",
    "# fill_value is used to fill the missing values with the value\n",
    "# data_series has 10 values and data_series1 has 11 values so 1 missing value in data_series will be filled with 0\n",
    "add_series = data_series1.add(data_series, fill_value=0)\n",
    "add_series\n",
    "\n",
    "# you can multiply, divide, subtract, add and do many other operations on the series\n",
    "\n",
    "# Text series operations\n",
    "data = ['apple', 'banana', 'cherry', 'dates', 'eggplant']\n",
    "data_series = pd.Series(data, name='Fruits')\n",
    "# get the length of the strings\n",
    "data_series.str.len()\n",
    "# convert the strings to uppercase\n",
    "upper_series = data_series.str.upper()\n",
    "upper_series\n",
    "# convert the strings to lowercase\n",
    "lower_series = data_series.str.lower()\n",
    "lower_series\n",
    "\n",
    "# split the strings\n",
    "df = data_series.str.split('a')\n",
    "df\n",
    "\n",
    "# numerical series aggregation\n",
    "data = [0, 5, 10, 15, 20, 25, 30, 35, 40, 45]\n",
    "data_series = pd.Series(data, name='Sales')\n",
    "# sum of the series\n",
    "s = data_series.sum()\n",
    "s\n",
    "# mean of the series\n",
    "m = data_series.mean()\n",
    "m\n",
    "# catagorical series aggregation\n",
    "data = ['apple', 'banana', 'cherry', 'dates', 'eggplant']\n",
    "data_series = pd.Series(data, name='Fruits')\n",
    "vals = data_series.unique()\n",
    "vals\n",
    "# get the number of unique values\n",
    "n = data_series.nunique()\n",
    "n\n",
    "# get the frequency of each value\n",
    "f = data_series.value_counts()\n",
    "f\n",
    "\n",
    "# mssing values\n",
    "# NAN is used to represent missing values\n",
    "data = [0, 5, 10, 15, 20, 25, 30, 35, 40, 45]\n",
    "data_series = pd.Series(data, name='Sales')\n",
    "# add a missing value\n",
    "data_series[0] = np.nan\n",
    "data_series\n",
    "# identify the missing values\n",
    "# if there is an nan value present then panda will coerce the data type to float\n",
    "data_series.isnull()\n",
    "# fill the missing values\n",
    "data_series.fillna(0)\n",
    "# you can also use numpy's NAN to fill the missing values\n",
    "data_series.fillna(pd.NA)\n",
    "# drop the missing values\n",
    "all_values_series = data_series.dropna()\n",
    "all_values_series\n",
    "\n",
    "# this is also used to identify the missing values\n",
    "data_series.isna()\n",
    "\n",
    "# applying custom functions to the series\n",
    "data = [0, 5, 10, 15, 20, 25, 30, 35, 40, 45]\n",
    "data_series = pd.Series(data, name='Sales')\n",
    "# apply the custom function to the series\n",
    "mul2_series = data_series.apply(lambda x: x * 2)\n",
    "mul2_series\n",
    "# # you can also use numpy functions\n",
    "sqrt_series = data_series.apply( lambda x: np.sqrt(x) if x > 10 else x)\n",
    "sqrt_series\n",
    "\n",
    "# you can also use the map function to apply the custom function\n",
    "m = data_series.map(lambda x: x * 2)\n",
    "m\n",
    "\n",
    "data = [0, 5, 10, 15, 20, 25, 30, 35, 40, 45]\n",
    "data_series = pd.Series(data, name='Sales')\n",
    "# find all the even numbers in the series\n",
    "data_series.where(lambda x: x % 2 == 0, inplace=True)\n",
    "data_series.isna()"
   ]
  }
 ],
 "metadata": {
  "kernelspec": {
   "display_name": "Python 3 (ipykernel)",
   "language": "python",
   "name": "python3"
  },
  "language_info": {
   "codemirror_mode": {
    "name": "ipython",
    "version": 3
   },
   "file_extension": ".py",
   "mimetype": "text/x-python",
   "name": "python",
   "nbconvert_exporter": "python",
   "pygments_lexer": "ipython3",
   "version": "3.11.4"
  }
 },
 "nbformat": 4,
 "nbformat_minor": 2
}
