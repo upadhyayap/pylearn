{
 "cells": [
  {
   "cell_type": "markdown",
   "metadata": {},
   "source": [
    "### Numpy"
   ]
  },
  {
   "cell_type": "code",
   "execution_count": 1,
   "metadata": {},
   "outputs": [],
   "source": [
    "import numpy as np"
   ]
  },
  {
   "cell_type": "code",
   "execution_count": 41,
   "metadata": {},
   "outputs": [
    {
     "name": "stdout",
     "output_type": "stream",
     "text": [
      "ndim: 1\n",
      "data type: int64\n",
      "shape: 6\n",
      "size: 6\n",
      "(2, 5)\n",
      "(5, 2)\n",
      "[[1. 0. 0.]\n",
      " [0. 1. 0.]\n",
      " [0. 0. 1.]]\n"
     ]
    }
   ],
   "source": [
    "# pandas dataframes are built on numpy arrays and can leverage numpy functions\n",
    "# to perform operations on the data\n",
    "# numpy arrays are more efficient than python lists for numerical operations\n",
    "# sample numpy array\n",
    "sales = [0, 1, 3, 5, 7, 9]\n",
    "sales_array = np.array(sales)\n",
    "\n",
    "# numpy array attributes\n",
    "# get shape\n",
    "print (f\"ndim: {sales_array.ndim}\")\n",
    "# get datatype\n",
    "print (f\"data type: {sales_array.dtype}\")\n",
    "# get dimension also known as axes\n",
    "print (f\"shape: {sales_array.shape[0]}\")\n",
    "# get size\n",
    "print (f\"size: {sales_array.size}\")\n",
    "\n",
    "# numpy array operations\n",
    "# add 5 to each element\n",
    "sales_array_plus_5 = sales_array + 5\n",
    "# multiply each element by 2\n",
    "sales_array_times_2 = sales_array * 2\n",
    "# square each element\n",
    "sales_array_squared = sales_array ** 2\n",
    "# numpy array methods\n",
    "# sum all elements\n",
    "total_sales = sales_array.sum()\n",
    "# calculate mean\n",
    "average_sales = sales_array.mean()\n",
    "# calculate standard deviation\n",
    "std_sales = sales_array.std()\n",
    "# calculate correlation coefficient\n",
    "correlation = np.corrcoef(sales_array, sales_array_plus_5)\n",
    "# calculate dot product\n",
    "dot_product = np.dot(sales_array, sales_array_plus_5)\n",
    "# calculate inner product\n",
    "inner_product = np.inner(sales_array, sales_array_plus_5)\n",
    "\n",
    "a = np.array([range(5), range(5)])\n",
    "print(a.shape)\n",
    "# transpose\n",
    "print(a.T.shape)\n",
    "\n",
    "## differen ways to create numpy arrays\n",
    "# create an array of ones\n",
    "ones = np.ones(5)\n",
    "# row and columns can also be passed\n",
    "# this will create a 3x2 array 2d array\n",
    "ones_2d = np.ones((3, 2), dtype=np.float64)\n",
    "# create an array of zeros\n",
    "zeros = np.zeros(5)\n",
    "# arange function\n",
    "# create an array of numbers from 0 to 9\n",
    "# takes 3 arguments: start, stop, step\n",
    "# stop is exclusive\n",
    "zero_to_nine = np.arange(1, 10, 2)\n",
    "# linspace function\n",
    "# create an array of 5 numbers from 0 to 10\n",
    "# takes 3 arguments: start, stop, number of elements\n",
    "# separated by constant step size\n",
    "zero_to_ten = np.linspace(0, 10, 5)\n",
    "\n",
    "# create an identity matrix\n",
    "# 3x3 matrix with 1s on the diagonal and 0s elsewhere\n",
    "identity_matrix = np.identity(3)\n",
    "print(identity_matrix)\n"
   ]
  },
  {
   "cell_type": "code",
   "execution_count": 40,
   "metadata": {},
   "outputs": [
    {
     "name": "stdout",
     "output_type": "stream",
     "text": [
      "[10, 20, 30, 40, 50, 60, 70, 80, 90, 100]\n",
      "[ 10  20  30  40  50  60  70  80  90 100]\n",
      "(10,)\n",
      "1\n",
      "int64\n",
      "0 10\n",
      "1 20\n",
      "2 30\n",
      "3 40\n",
      "4 50\n",
      "5 60\n",
      "6 70\n",
      "7 80\n",
      "8 90\n",
      "9 100\n",
      "0 10\n",
      "1 20\n",
      "2 30\n",
      "3 40\n",
      "4 50\n",
      "5 60\n",
      "6 70\n",
      "7 80\n",
      "8 90\n",
      "9 100\n",
      "10\n",
      "100\n",
      "[10 20 30]\n",
      "[ 80  90 100]\n",
      "[[ 10  20  30  40  50]\n",
      " [ 60  70  80  90 100]]\n",
      "[0 1 2 3 4 5]\n",
      "[[0 1 2]\n",
      " [3 4 5]]\n",
      "[[0 1 2]\n",
      " [3 4 5]]\n",
      "(2, 3)\n",
      "3\n",
      "[0 3]\n",
      "[[10  1  2]\n",
      " [10  4  5]]\n"
     ]
    }
   ],
   "source": [
    "l = [x * 10 for x in range(1,11)]\n",
    "print(l)\n",
    "a = np.array(l)\n",
    "print(a)\n",
    "print(a.shape)\n",
    "print(a.ndim)\n",
    "print(a.dtype)\n",
    "\n",
    "# enumerate over the array\n",
    "for i, v in enumerate(a):\n",
    "    print(i, v)\n",
    "\n",
    "# enumerate over the python list using range\n",
    "for i in range(len(a)):\n",
    "    print(i, a[i])\n",
    "\n",
    "# numpy array reshaping\n",
    "# reshape the array to have 2 rows and 5 columns\n",
    "# out of the 10 elements in the array a = [0, 10, 20, 30, 40, 50, 60, 70, 80, 90]\n",
    "# the reshaped array will have 2 rows and 5 columns\n",
    "# the first row will have elements [0, 10, 20, 30, 40]\n",
    "# the second row will have elements [50, 60, 70, 80, 90]\n",
    "# total number of elements in the reshaped array = 2 * 5 = 10\n",
    "a_reshaped = a.reshape(2, 5)\n",
    "print(a_reshaped)\n",
    "\n",
    "# numpy array concatenation\n",
    "# concatenate two numpy arrays\n",
    "a = np.array([0, 1, 2])\n",
    "b = np.array([3, 4, 5])\n",
    "# concatenate along the row axis\n",
    "ab_row = np.concatenate((a, b))\n",
    "print(ab_row)\n",
    "# concatenate along the column axis\n",
    "ab_column = np.vstack((a, b))\n",
    "print(ab_column)\n",
    "\n",
    "# numpy array stacking\n",
    "# stack two numpy arrays\n",
    "a = np.array([0, 1, 2])\n",
    "b = np.array([3, 4, 5])\n",
    "# stack along the row axis\n",
    "ab_row = np.stack((a, b))  # default axis=0\n",
    "print(ab_row)\n",
    "print(ab_row.shape) # the shape of the stacked array is (2, 3)\n",
    "# Now I want to access the element 3\n",
    "# it can be accessed by row[1][0] and the pyton way of doing it is row[1, 0]\n",
    "# first index is the row index and the second index is the column index\n",
    "print(ab_row[1, 0])\n",
    "# Getting the first column of all the rows\n",
    "print(ab_row[:,0])\n",
    "# change the first column values of all the rows to 10\n",
    "ab_row[:,0] = 10\n",
    "print(ab_row)\n",
    "\n",
    "\n"
   ]
  },
  {
   "cell_type": "code",
   "execution_count": 49,
   "metadata": {},
   "outputs": [
    {
     "name": "stdout",
     "output_type": "stream",
     "text": [
      "<class 'numpy.float64'>\n",
      "[4 6]\n",
      "[4 6]\n"
     ]
    }
   ],
   "source": [
    "# universal functions\n",
    "# numpy provides a large number of universal functions that can be applied to numpy arrays\n",
    "# some of the most common universal functions are:\n",
    "# np.sqrt() - square root\n",
    "# np.exp() - exponential\n",
    "# np.log() - natural logarithm\n",
    "# example of using universal functions\n",
    "a = np.array([1, 2, 3])\n",
    "# calculate the square root of each element\n",
    "a_sqrt = np.sqrt(a)\n",
    "# calculate the exponential of each element\n",
    "a_exp = np.exp(a)\n",
    "# calculate the natural logarithm of each element\n",
    "a_log = np.log(a)\n",
    "\n",
    "# type casting\n",
    "# numpy arrays can be cast to a different datatype\n",
    "# example of type casting\n",
    "a = np.array([1, 2, 3])\n",
    "# cast the array to float\n",
    "a_float = a.astype(np.float64)\n",
    "print(type(a_float[0]))\n",
    "\n",
    "# running over an axes\n",
    "# numpy provides functions to run over an axis\n",
    "# example of running over an axis\n",
    "a = np.array([[1, 2], [3, 4]])\n",
    "# sum all elements\n",
    "# axes=0 means sum along the column axis and 1 means sum along the row axis\n",
    "# you can pass axes to most of the numpy functions\n",
    "total = np.sum(a, axis=0)\n",
    "print(total)\n",
    "# sum along the row axis\n",
    "row_sum = np.sum(a, axis=0)\n",
    "print(row_sum)"
   ]
  },
  {
   "cell_type": "code",
   "execution_count": 60,
   "metadata": {},
   "outputs": [
    {
     "name": "stdout",
     "output_type": "stream",
     "text": [
      "[1 2]\n",
      "[3 4]\n",
      "[[1 2]\n",
      " [3 4]]\n",
      "[[1 2]\n",
      " [3 4]]\n",
      "[[1 2 3]\n",
      " [4 5 6]\n",
      " [7 8 9]]\n",
      "[1 2 3]\n",
      "[1 4 7]\n",
      "[[4 5 6]]\n",
      "[[1 2]\n",
      " [4 5]]\n",
      "[1 3 5]\n",
      "[ 6  7  8  9 10 11 12 13 14 15]\n",
      "[ 7 12]\n",
      "(1, 3, 5)\n"
     ]
    }
   ],
   "source": [
    "# numpy array slicing\n",
    "# numpy array slicing\n",
    "# get the first element\n",
    "print(a[0])\n",
    "# get the last element\n",
    "print(a[-1])\n",
    "# get the first three elements\n",
    "print(a[:3])\n",
    "# get the last three elements\n",
    "# using negative indexing from the end of the array\n",
    "print(a[-3:])\n",
    "\n",
    "matrix_a = np.array([[1, 2, 3], [4, 5, 6], [7, 8, 9]])\n",
    "print(matrix_a[:])\n",
    "# get the first row\n",
    "print(matrix_a[0])\n",
    "# get the first column\n",
    "print(matrix_a[:,0])\n",
    "# get the row one\n",
    "print(matrix_a[1:2])\n",
    "\n",
    "# only first two columns of the first two rows\n",
    "print(matrix_a[:2, :2])\n",
    "\n",
    "# step wise slicing\n",
    "# this means not taking the consecutive values but values thaat are certain distance apart\n",
    "# create a 3X5 matrix\n",
    "matrix_b = np.array([[1, 2, 3, 4, 5], [6, 7, 8, 9, 10], [11, 12, 13, 14, 15]])\n",
    "# the syntax for the step wise slicing is [start:stop:step] by default the step is 1\n",
    "# if step is negative then we are moving from right to left\n",
    "# get the first row and every other column\n",
    "print(matrix_b[0, ::2])\n",
    "\n",
    "# conditional slicing\n",
    "# get all elements greater than 5\n",
    "print(matrix_b[matrix_b > 5])\n",
    "# get all the elements of the 2nd column that are greater than 5\n",
    "print(matrix_b[:, 1][matrix_b[:, 1] > 5])\n",
    "\n",
    "# dimensionality and squeezing\n",
    "# numpy arrays can have multiple dimensions\n",
    "# numpy provides a function to squeeze out the dimensions\n",
    "# create a 3x5 matrix\n",
    "matrix_c = np.array([[1, 2, 3, 4, 5], [6, 7, 8, 9, 10], [11, 12, 13, 14, 15]])\n",
    "matrix_D = matrix_c.squeeze()\n"
   ]
  },
  {
   "cell_type": "code",
   "execution_count": 88,
   "metadata": {},
   "outputs": [
    {
     "name": "stdout",
     "output_type": "stream",
     "text": [
      "[0.22479665 0.19806286 0.76053071 0.16911084 0.08833981]\n",
      "[ 0.26551159  0.10854853  0.00429143 -0.17460021  0.43302619]\n",
      "[[0 0 0 0 0]\n",
      " [0 0 0 0 0]\n",
      " [0 0 0 0 0]]\n",
      "[[1 1 1 1 1]\n",
      " [1 1 1 1 1]\n",
      " [1 1 1 1 1]]\n",
      "[0 0 0]\n",
      "[[0 0 0 0 0]\n",
      " [0 0 0 0 0]\n",
      " [0 0 0 0 0]]\n",
      "[0.65358959 0.11500694 0.95028286 0.4821914  0.87247454]\n"
     ]
    }
   ],
   "source": [
    "# generating data with numpy\n",
    "# numpy provides functions to generate data\n",
    "# generate random numbers\n",
    "# generate random numbers between 0 and 1\n",
    "random_numbers = np.random.rand(5)\n",
    "# generate random numbers from a normal distribution\n",
    "random_numbers_normal = np.random.randn(5)\n",
    "print(random_numbers)\n",
    "print(random_numbers_normal)\n",
    "print(np.empty(shape=(3, 5), dtype=np.int64))\n",
    "print(np.full((3,5),1))\n",
    "\n",
    "# _like functions\n",
    "# numpy provides functions to create arrays like other arrays\n",
    "# create an array of zeros like another array\n",
    "a = np.array([1, 2, 3])\n",
    "zeros_like_a = np.zeros_like(a)\n",
    "print(zeros_like_a)\n",
    "print(np.zeros_like(np.empty(shape=(3, 5), dtype=np.int64)))"
   ]
  },
  {
   "cell_type": "code",
   "execution_count": 110,
   "metadata": {},
   "outputs": [
    {
     "name": "stdout",
     "output_type": "stream",
     "text": [
      "[4.17022005e-01 7.20324493e-01 1.14374817e-04 3.02332573e-01\n",
      " 1.46755891e-01]\n"
     ]
    },
    {
     "data": {
      "text/plain": [
       "array([[1, 4, 2, 1, 2],\n",
       "       [4, 3, 2, 3, 2],\n",
       "       [0, 4, 2, 0, 4],\n",
       "       [4, 4, 3, 0, 2],\n",
       "       [1, 2, 1, 1, 2]])"
      ]
     },
     "execution_count": 110,
     "metadata": {},
     "output_type": "execute_result"
    }
   ],
   "source": [
    "from numpy.random import Generator as gen\n",
    "from numpy.random import PCG64 as pcg\n",
    "# random generators and seeds\n",
    "# numpy provides random number generators\n",
    "# the random number generators can be seeded\n",
    "# seed the random number generator\n",
    "np.random.seed(1)\n",
    "# generate random numbers\n",
    "random_numbers = np.random.rand(5)\n",
    "print(random_numbers)\n",
    "\n",
    "array_RG = gen(pcg())\n",
    "array_RG.normal(size=(5, 5))\n",
    "\n",
    "# seed the random number generator to get the same random numbers each time the code is run\n",
    "array_RG = gen(pcg(seed=365))\n",
    "array_RG.normal(size=(5, 5))\n",
    "\n",
    "# random integers, probabilities and choices\n",
    "# it will include the values from 10 to 100\n",
    "array_RG.integers(10, 100, size=(5, 5))\n",
    "\n",
    "# It chooses 5 values from gives range of 100 with replacement\n",
    "# with an optional defined probability for each element\n",
    "array_RG.choice(5, size=(5, 5), p = [0.1, 0.2, 0.3, 0.2, 0.2])\n",
    "\n"
   ]
  },
  {
   "cell_type": "code",
   "execution_count": 117,
   "metadata": {},
   "outputs": [
    {
     "name": "stdout",
     "output_type": "stream",
     "text": [
      "(1043, 6)\n"
     ]
    }
   ],
   "source": [
    "# importing and saving data\n",
    "# numpy provides functions to import and save data\n",
    "# import data from a text file\n",
    "lending_co_data_numeric_1 = np.loadtxt('/Users/anand/learning/python/pylearn/notebooks/datascience/Lending-Company-Numeric-Data.csv', delimiter=',')\n",
    "print(lending_co_data_numeric_1.shape)"
   ]
  },
  {
   "cell_type": "code",
   "execution_count": 118,
   "metadata": {},
   "outputs": [
    {
     "name": "stdout",
     "output_type": "stream",
     "text": [
      "(1043, 6)\n"
     ]
    }
   ],
   "source": [
    "# genfromtxt is little slower than loadtxt but it can handle missing values\n",
    "lending_co_data_numeric_2 = np.genfromtxt('/Users/anand/learning/python/pylearn/notebooks/datascience/Lending-Company-Numeric-Data.csv', delimiter=',')\n",
    "print(lending_co_data_numeric_2.shape)"
   ]
  },
  {
   "cell_type": "code",
   "execution_count": 119,
   "metadata": {},
   "outputs": [
    {
     "data": {
      "text/plain": [
       "True"
      ]
     },
     "execution_count": 119,
     "metadata": {},
     "output_type": "execute_result"
    }
   ],
   "source": [
    "np.array_equal(lending_co_data_numeric_1, lending_co_data_numeric_2)"
   ]
  },
  {
   "cell_type": "code",
   "execution_count": 126,
   "metadata": {},
   "outputs": [
    {
     "name": "stdout",
     "output_type": "stream",
     "text": [
      "(1043, 6)\n"
     ]
    }
   ],
   "source": [
    "# we can pass a data type to the loadtxt function\n",
    "# this will convert all the values to the specified data type\n",
    "lending_co_data_numeric_3 = np.loadtxt('/Users/anand/learning/python/pylearn/notebooks/datascience/Lending-Company-Numeric-Data-NAN.csv',\n",
    "                                        delimiter=';',\n",
    "                                          dtype=str)\n",
    "print(lending_co_data_numeric_3.shape)"
   ]
  },
  {
   "cell_type": "code",
   "execution_count": 131,
   "metadata": {},
   "outputs": [
    {
     "name": "stdout",
     "output_type": "stream",
     "text": [
      "(1039, 3)\n",
      "(1039,)\n",
      "(1039,)\n",
      "(1039,)\n"
     ]
    }
   ],
   "source": [
    "# we can use data cleaning techniques to clean the data while importing\n",
    "lending_co_data_numeric_3 = np.genfromtxt('/Users/anand/learning/python/pylearn/notebooks/datascience/Lending-Company-Numeric-Data-NAN.csv',\n",
    "                                          delimiter=';', skip_header=2, skip_footer=2, usecols=[0, 1, 2])\n",
    "print(lending_co_data_numeric_3.shape)\n",
    "\n",
    "# now take each columns 0, 1, 2 in each variable\n",
    "lending_co_data_numeric_1, lending_co_data_numeric_2, lending_co_data_numeric_3 = np.genfromtxt('/Users/anand/learning/python/pylearn/notebooks/datascience/Lending-Company-Numeric-Data-NAN.csv',\n",
    "                                          delimiter=';', skip_header=2, skip_footer=2, usecols=[0, 1, 2], unpack=True)\n",
    "print(lending_co_data_numeric_1.shape)\n",
    "print(lending_co_data_numeric_2.shape)\n",
    "print(lending_co_data_numeric_3.shape)"
   ]
  },
  {
   "cell_type": "code",
   "execution_count": 145,
   "metadata": {},
   "outputs": [
    {
     "name": "stdout",
     "output_type": "stream",
     "text": [
      "['d1', 'd2']\n"
     ]
    }
   ],
   "source": [
    "# saving data with numpy\n",
    "# save the data to a text file\n",
    "lending_co = np.genfromtxt('/Users/anand/learning/python/pylearn/notebooks/datascience/Lending-Company-Saving.csv', delimiter=',', dtype=str)\n",
    "# save saves the data in the npy file format\n",
    "# it is a binary file format and is faster than text files\n",
    "np.save('Lending-Company-Saving', lending_co)\n",
    "# load the data from the npy file\n",
    "lending_co_npy = np.load('Lending-Company-Saving.npy')\n",
    "np.array_equal(lending_co, lending_co_npy)\n",
    "\n",
    "# now use the savez function to save multiple arrays\n",
    "# save the data to a text file\n",
    "lending_co = np.genfromtxt('/Users/anand/learning/python/pylearn/notebooks/datascience/Lending-Company-Saving.csv', delimiter=',', dtype=str)\n",
    "# savez saves the data in the npz file format\n",
    "# it is a binary file format and is faster than text files\n",
    "# it is an archieve of npy files\n",
    "# we can store multiple arrays in a single npz file\n",
    "# d1 and d2 are the keys to access the arrays\n",
    "np.savez('Lending-Company-Saving', d1=lending_co, d2=lending_co_npy)\n",
    "# load the data from the npz file\n",
    "lending_co_npz = np.load('Lending-Company-Saving.npz')\n",
    "print(lending_co_npz.files)\n",
    "np.array_equal(lending_co, lending_co_npz['d1'])\n",
    "\n",
    "# saving data in the text format\n",
    "# save the data to a text file\n",
    "lending_co = np.genfromtxt('/Users/anand/learning/python/pylearn/notebooks/datascience/Lending-Company-Saving.csv',\n",
    "                            delimiter=',',\n",
    "                            skip_header=1,\n",
    "                              dtype=str)\n",
    "# save the data to a text file\n",
    "np.savetxt('Lending-Company-savings_np-save_txt.txt', lending_co, fmt='%s', delimiter=',')"
   ]
  },
  {
   "cell_type": "code",
   "execution_count": 170,
   "metadata": {},
   "outputs": [
    {
     "name": "stdout",
     "output_type": "stream",
     "text": [
      "[2000. 1000. 2000. ... 2000. 1000. 2000.]\n",
      "mean: 2257.6775431861806\n",
      "median: 2000.0\n",
      "standard deviation: 1358.686978950694\n",
      "variance: 1846030.3067701636\n",
      "minimum: 1000.0\n",
      "maximum: 9000.0\n",
      "sum: 2352500.0\n",
      "product: 0\n",
      "25th percentile: 2000.0\n",
      "covariance: [[1.84780363e+06 1.36719109e+04]\n",
      " [1.36719109e+04 1.68075714e+02]]\n",
      "correlation coefficient: [[1.         0.77579831]\n",
      " [0.77579831 1.        ]]\n"
     ]
    }
   ],
   "source": [
    "# numpy statistical functions\n",
    "# numpy provides a large number of statistical functions\n",
    "# calculate the mean\n",
    "lending_co_data_numeric = np.genfromtxt('/Users/anand/learning/python/pylearn/notebooks/datascience/Lending-Company-Numeric-Data.csv',\n",
    "                                         delimiter=',',\n",
    "                                           skip_header=1)\n",
    "print(lending_co_data_numeric[:, 0])\n",
    "# calculate the mean of the first column\n",
    "mean = np.mean(lending_co_data_numeric[:, 0])\n",
    "print(f'mean: {mean}')\n",
    "# calculate the mean ignoring the nan values\n",
    "# there are nan equivalent functions for most of the statistical functions\n",
    "mean = np.nanmean(lending_co_data_numeric[:, 0])\n",
    "\n",
    "# calculate the median\n",
    "median = np.median(lending_co_data_numeric[:, 0])\n",
    "print(f'median: {median}')\n",
    "\n",
    "# calculate the standard deviation\n",
    "std = np.std(lending_co_data_numeric[:, 0])\n",
    "print(f'standard deviation: {std}')\n",
    "\n",
    "# calculate the variance\n",
    "var = np.var(lending_co_data_numeric[:, 0])\n",
    "print(f'variance: {var}')\n",
    "\n",
    "# calculate the minimum\n",
    "min = np.min(lending_co_data_numeric[:,0])\n",
    "print(f'minimum: {min}')\n",
    "\n",
    "# calculate the maximum\n",
    "max = np.max(lending_co_data_numeric[:,0])\n",
    "print(f'maximum: {max}')\n",
    "\n",
    "# calculate the sum\n",
    "sum = np.sum(lending_co_data_numeric[:,0])\n",
    "print(f'sum: {sum}')\n",
    "\n",
    "# calculate the product\n",
    "product = np.prod(lending_co_data_numeric[:,0], dtype=np.int64)\n",
    "print(f'product: {product}')\n",
    "\n",
    "# calculate the quantile\n",
    "# calculate the 25th percentile\n",
    "quantile_25 = np.percentile(lending_co_data_numeric[:,0], 25)\n",
    "print(f'25th percentile: {quantile_25}')\n",
    "\n",
    "# calculate the co-variance matrix of two columns 0 and 1\n",
    "cov = np.cov(lending_co_data_numeric[:,0], lending_co_data_numeric[:,1])\n",
    "print(f'covariance: {cov}')\n",
    "\n",
    "# calculate the correlation coefficient of two columns 0 and 1\n",
    "corr = np.corrcoef(lending_co_data_numeric[:,0], lending_co_data_numeric[:,1])\n",
    "print(f'correlation coefficient: {corr}')"
   ]
  },
  {
   "cell_type": "code",
   "execution_count": 182,
   "metadata": {},
   "outputs": [
    {
     "name": "stdout",
     "output_type": "stream",
     "text": [
      "(array([842, 179,  21]), array([1000.        , 3666.66666667, 6333.33333333, 9000.        ]))\n"
     ]
    },
    {
     "data": {
      "text/plain": [
       "(array([842., 179.,  21.]),\n",
       " array([1000.        , 3666.66666667, 6333.33333333, 9000.        ]),\n",
       " <BarContainer object of 3 artists>)"
      ]
     },
     "execution_count": 182,
     "metadata": {},
     "output_type": "execute_result"
    },
    {
     "data": {
      "image/png": "[encoded data removed]",
      "text/plain": [
       "<Figure size 640x480 with 1 Axes>"
      ]
     },
     "metadata": {},
     "output_type": "display_data"
    }
   ],
   "source": [
    "# creating histograms in numpy\n",
    "# create a histogram\n",
    "# create a histogram of the first column\n",
    "import matplotlib.pyplot as plt\n",
    "# bins are closed open interval [a, b)\n",
    "# you can pass a range to eliminate the outliers\n",
    "hist = np.histogram(lending_co_data_numeric[:,0], bins=3)\n",
    "print(hist)\n",
    "\n",
    "# plot the histogram\n",
    "plt.title('Histogram of the first column')\n",
    "plt.xlabel('Values')\n",
    "plt.ylabel('Frequency')\n",
    "plt.hist(lending_co_data_numeric[:,0], bins=hist[1])"
   ]
  },
  {
   "cell_type": "code",
   "execution_count": 197,
   "metadata": {},
   "outputs": [
    {
     "name": "stdout",
     "output_type": "stream",
     "text": [
      "[[ 2  2  3  4  5]\n",
      " [ 6  7  8  9 10]\n",
      " [11 12 13 14 15]]\n",
      "[[ 2  2  3]\n",
      " [ 4  5  6]\n",
      " [ 7  8  9]\n",
      " [10 11 12]\n",
      " [13 14 15]]\n",
      "[[ 7  8  9]\n",
      " [10 11 12]\n",
      " [13 14 15]]\n"
     ]
    }
   ],
   "source": [
    "# manipulating data with numpy\n",
    "# numpy provides functions to manipulate data\n",
    "# create a 3x5 matrix\n",
    "matrix = np.array([[1, 2, 3, 4, 5], [6, 7, 8, 9, 10], [11, 12, 13, 14, 15]])\n",
    "# if there is a nan value in the matrix\n",
    "# sum = 0 confirms that there is a no nan value in the matrix otherwise the sum would have been 1\n",
    "np.isnan(matrix).sum()\n",
    "# replace the nan values with 0\n",
    "matrix[np.isnan(matrix)] = 0\n",
    "# substitute a value with where\n",
    "# replace all the 1s with 2s\n",
    "matrix = np.where(matrix == 1, 2, matrix)\n",
    "print(matrix)\n",
    "\n",
    "# reshaping arrays\n",
    "# reshape the array to have 5 rows and 3 columns\n",
    "matrix = matrix.reshape(5, 3)\n",
    "print(matrix)\n",
    "\n",
    "# deleting rows and columns\n",
    "# delete the first row\n",
    "# if we do not pass the axis then it will flatten the array and delete the first element\n",
    "# # multiple rows can be deleted by passing a tuple of row indices\n",
    "matrix = np.delete(matrix, (0,1), axis=0)\n",
    "print(matrix)\n",
    "\n",
    "# suppress the scientific notation\n",
    "np.set_printoptions(suppress=True)\n"
   ]
  },
  {
   "cell_type": "code",
   "execution_count": null,
   "metadata": {},
   "outputs": [],
   "source": [
    "#Argument functions: they do not overwrite the original array\n",
    "# argsort function returns the indices that would sort an array\n",
    "np.argsort(lending_co_data_numeric[:,0])\n",
    "# sort all the columns data\n",
    "lending_co_data_numeric[np.argsort(lending_co_data_numeric[:,0])]\n",
    "# argmin returns the index of the minimum value\n",
    "np.argmin(lending_co_data_numeric[:,0])\n",
    "# argmax returns the index of the maximum value\n",
    "np.argmax(lending_co_data_numeric[:,0])\n",
    "# argwhere returns the indices of the elements that satisfy the condition\n",
    "# it rueturns an nX2 array where n[i][j] represents a match at ith row and jth column\n",
    "np.argwhere(lending_co_data_numeric > 100)\n",
    "# where returns the indices of the elements that satisfy the condition\n",
    "np.where(lending_co_data_numeric[:,0] > 100)\n",
    "\n",
    "# shuffle the data\n",
    "from numpy.random import shuffle\n",
    "shuffle(lending_co_data_numeric)\n",
    "\n",
    "# type casting\n",
    "lending_co_data_numeric = lending_co_data_numeric.astype(\n",
    "    np.float64).astype(np.int64).astype(str)\n",
    "lending_co_data_numeric\n",
    "# striping symbols\n",
    "# strip the dollar sign\n",
    "lending_co_data_numeric = np.chararray.strip(lending_co_data_numeric, '$')\n",
    "lending_co_data_numeric[:, 0] = np.chararray.strip(lending_co_data_numeric[:,0], '$')\n",
    "\n",
    "# unique values\n",
    "# get the unique values\n",
    "unique_values = np.unique(lending_co_data_numeric[:, 0])"
   ]
  }
 ],
 "metadata": {
  "kernelspec": {
   "display_name": "Python 3 (ipykernel)",
   "language": "python",
   "name": "python3"
  },
  "language_info": {
   "codemirror_mode": {
    "name": "ipython",
    "version": 3
   },
   "file_extension": ".py",
   "mimetype": "text/x-python",
   "name": "python",
   "nbconvert_exporter": "python",
   "pygments_lexer": "ipython3",
   "version": "3.11.4"
  }
 },
 "nbformat": 4,
 "nbformat_minor": 2
}
