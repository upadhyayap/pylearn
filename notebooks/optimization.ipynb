{
 "cells": [
  {
   "cell_type": "markdown",
   "metadata": {},
   "source": [
    "### Optimization techniques"
   ]
  },
  {
   "cell_type": "code",
   "execution_count": 45,
   "metadata": {},
   "outputs": [
    {
     "name": "stderr",
     "output_type": "stream",
     "text": [
      "518915.24s - pydevd: Sending message related to process being replaced timed-out after 5 seconds\n"
     ]
    },
    {
     "name": "stdout",
     "output_type": "stream",
     "text": [
      "Collecting cvxopt\n",
      "  Obtaining dependency information for cvxopt from https://files.pythonhosted.org/packages/08/4d/2b2cc805f7db0636896b185dc8204556d363ccadbdca67e1a60e7aab4be6/cvxopt-1.3.2-cp311-cp311-macosx_11_0_arm64.whl.metadata\n",
      "  Downloading cvxopt-1.3.2-cp311-cp311-macosx_11_0_arm64.whl.metadata (1.3 kB)\n",
      "Downloading cvxopt-1.3.2-cp311-cp311-macosx_11_0_arm64.whl (11.1 MB)\n",
      "\u001b[2K   \u001b[90m━━━━━━━━━━━━━━━━━━━━━━━━━━━━━━━━━━━━━━━━\u001b[0m \u001b[32m11.1/11.1 MB\u001b[0m \u001b[31m4.3 MB/s\u001b[0m eta \u001b[36m0:00:00\u001b[0m00:01\u001b[0m00:01\u001b[0m\n",
      "\u001b[?25hInstalling collected packages: cvxopt\n",
      "Successfully installed cvxopt-1.3.2\n"
     ]
    }
   ],
   "source": [
    "# installing the cvxopt library\n",
    "%pip install cvxopt"
   ]
  },
  {
   "cell_type": "code",
   "execution_count": 46,
   "metadata": {},
   "outputs": [],
   "source": [
    "# use cvx to solve the optimization problem\n",
    "import numpy as np\n",
    "import cvxopt as cp"
   ]
  },
  {
   "cell_type": "code",
   "execution_count": 47,
   "metadata": {},
   "outputs": [],
   "source": [
    "# Format for writing a linear programming problem(LP) is as follows:\n",
    "# minimize c^T * x\n",
    "# subject to A * X <= b\n",
    "#             X >= 0\n",
    "# where x is the variable to be optimized\n",
    "# c is the cost function\n",
    "# A is the matrix of constraints\n",
    "# b is the vector of constraints\n",
    "# ex: min z = 2x1 + 3x2 => c = [2, 3](x1, x2)^T\n",
    "#      s.t. x1 + x2 >= 2\n",
    "#  2x1 + 3X2 <=12\n",
    "# x1, x2 >= 0\n",
    "#  you need to convert all the constraint so that it has negative sign on the right side if it is not already\n",
    "#  x1 + x2 >= 2 => -x1 - x2 <= -2\n",
    "#  2x1 + 3X2 <=12 => 2x1 + 3X2 <= 12\n",
    "#  x1, x2 >= 0 => -x1 <= 0, -x2 <= 0\n",
    "#  Now what is A here is the matrix of constraints\n",
    "#  A = [[-1, 2, -1, 0], [-1, 3, 0, -1]]^T\n",
    "#  b = [-2, -12, 0, 0]^T\n",
    "#  c = [2, 3]\n",
    "#  the cvxopt library requires the input to be in the form of matrices\n",
    "#  so we need to convert the above into matrices"
   ]
  },
  {
   "cell_type": "code",
   "execution_count": 49,
   "metadata": {},
   "outputs": [
    {
     "name": "stdout",
     "output_type": "stream",
     "text": [
      "     pcost       dcost       gap    pres   dres   k/t\n",
      " 0:  1.0471e+01 -7.7647e+00  1e+01  0e+00  5e-01  1e+00\n",
      " 1:  8.4116e+00  2.4976e+00  5e+00  6e-17  2e-01  5e-01\n",
      " 2:  4.5406e+00  3.5762e+00  9e-01  2e-16  3e-02  2e-01\n",
      " 3:  4.0080e+00  3.9869e+00  2e-02  2e-16  7e-04  5e-03\n",
      " 4:  4.0001e+00  3.9999e+00  2e-04  3e-16  7e-06  5e-05\n",
      " 5:  4.0000e+00  4.0000e+00  2e-06  3e-16  7e-08  5e-07\n",
      "Optimal solution found.\n",
      "[ 2.00e+00]\n",
      "[ 5.38e-07]\n",
      "\n",
      "4.000000801817514\n"
     ]
    }
   ],
   "source": [
    "from cvxopt import matrix, solvers\n",
    "A=matrix([[-1.0, 2.0, -1.0, 0.0], [-1.0, 3.0, 0.0, -1.0]])\n",
    "b=matrix([-2.0, 12.0, 0.0, 0.0])\n",
    "c=matrix([2.0, 3.0])\n",
    "sol=solvers.lp(c,A,b) # this will solve the LP problem\n",
    "print(sol['x']) # this will print the values of x1 and x2\n",
    "print(sol['primal objective']) # this will print the value of the objective function"
   ]
  },
  {
   "cell_type": "code",
   "execution_count": 51,
   "metadata": {},
   "outputs": [
    {
     "name": "stdout",
     "output_type": "stream",
     "text": [
      "     pcost       dcost       gap    pres   dres\n",
      " 0:  1.7722e+01  1.3611e+01  4e+00  4e-17  9e-01\n",
      " 1:  1.7516e+01  1.7273e+01  2e-01  1e-16  3e-02\n",
      " 2:  1.7500e+01  1.7493e+01  7e-03  9e-16  8e-05\n",
      " 3:  1.7500e+01  1.7500e+01  7e-05  1e-16  8e-07\n",
      " 4:  1.7500e+01  1.7500e+01  7e-07  4e-16  8e-09\n",
      "Optimal solution found.\n",
      "[ 2.50e+00]\n",
      "[ 5.00e-01]\n",
      "\n",
      "17.500000000000234\n"
     ]
    }
   ],
   "source": [
    "# solving a quadratic programming problem if it is a convex problem\n",
    "# it is a convex problem if the Hessian matrix is positive semi-definite\n",
    "# the format for writing a quadratic programming problem(QP) is as follows:\n",
    "# minimize 1/2 * x^T * P * x + q^T * x\n",
    "# subject to G * x <= h\n",
    "#             A * x = b\n",
    "# where x is the variable to be optimized\n",
    "# P is the Hessian matrix\n",
    "# q is the cost function\n",
    "# G is the matrix of inequality constraints\n",
    "# h is the vector of inequality constraints\n",
    "# A is the matrix of equality constraints\n",
    "# b is the vector of equality constraints\n",
    "# ex: min z = x1^2 + x1 * x2 + 2 * x2^2 + 3 * x1 + 4 * x2\n",
    "#      s.t. 2 * x1 + x2 = 1\n",
    "#  x1, x2 >= 0\n",
    "#  you need to convert all the constraint so that it has negative sign on the right side if it is not already\n",
    "#  2 * x1 + x2 = 3 => 2 * x1 + x2 = 1\n",
    "#  x1, x2 >= 0 => -x1 <= 0, -x2 <= 0\n",
    "# f can be written using the formula 1/2 * x^T * P * x + q^T * x in the matrix form as follows:\n",
    "# z = 1/2 * [[x1, x2]] * [[2, 1] [1, 4]] + [3, 4] * [[x1], [x2]]^T here P = [[2, 1] [1, 4]], q = [3, 4]\n",
    "# A = [[2, 1]], b = [1]\n",
    "# G = [[-1, 0], [0, -1]], h = [0, 0]\n",
    "# the cvxopt library requires the input to be in the form of matrices\n",
    "# so we need to convert the above into matrices\n",
    "A= matrix([[1.0], [1.0]])\n",
    "b= matrix([3.0])\n",
    "P= matrix([[2.0, 1.0], [1.0, 4.0]])\n",
    "q= matrix([3.0, 4.0])\n",
    "G= matrix([[-1.0, 0.0], [0.0, -1.0]])\n",
    "h= matrix([0.0, 0.0])\n",
    "sol=solvers.qp(P,q,G,h,A,b) # this will solve the QP problem\n",
    "print(sol['x']) # this will print the values of x1 and x2\n",
    "print(sol['primal objective']) # this will print the value of the objective function"
   ]
  }
 ],
 "metadata": {
  "kernelspec": {
   "display_name": "Python 3 (ipykernel)",
   "language": "python",
   "name": "python3"
  },
  "language_info": {
   "codemirror_mode": {
    "name": "ipython",
    "version": 3
   },
   "file_extension": ".py",
   "mimetype": "text/x-python",
   "name": "python",
   "nbconvert_exporter": "python",
   "pygments_lexer": "ipython3",
   "version": "3.11.4"
  }
 },
 "nbformat": 4,
 "nbformat_minor": 2
}
