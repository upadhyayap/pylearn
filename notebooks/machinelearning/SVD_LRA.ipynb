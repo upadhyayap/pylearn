{
 "cells": [
  {
   "cell_type": "markdown",
   "id": "001bb4b5",
   "metadata": {},
   "source": [
    "### Spectral decomposition"
   ]
  },
  {
   "cell_type": "markdown",
   "id": "1560dffb",
   "metadata": {},
   "source": [
    "In most of the problems we obtain the co-variance matrix and then do SVD. The nice thing about the co-variance matrix is that it is a symmetric and will always have the eigen decomposition."
   ]
  },
  {
   "cell_type": "code",
   "execution_count": 2,
   "id": "61fffdc4",
   "metadata": {},
   "outputs": [],
   "source": [
    "import numpy as np"
   ]
  },
  {
   "cell_type": "code",
   "execution_count": 5,
   "id": "cdaa0733",
   "metadata": {},
   "outputs": [],
   "source": [
    "np.set_printoptions(precision=4, suppress=True)"
   ]
  },
  {
   "cell_type": "markdown",
   "id": "5fef0b07",
   "metadata": {},
   "source": [
    "We will take a 3x4 matrix for to calculate the SVD"
   ]
  },
  {
   "cell_type": "code",
   "execution_count": 7,
   "id": "0cb46803",
   "metadata": {},
   "outputs": [
    {
     "name": "stdout",
     "output_type": "stream",
     "text": [
      "[[1 2 3 4]\n",
      " [1 1 2 3]\n",
      " [0 1 1 0]]\n"
     ]
    }
   ],
   "source": [
    "a=np.array([[1,2,3,4],[1,1,2,3],[0,1,1,0]])\n",
    "print(a)"
   ]
  },
  {
   "cell_type": "markdown",
   "id": "207a7511",
   "metadata": {},
   "source": [
    "Max rank of the above matrix can be 3 and there can be max 3 singular values"
   ]
  },
  {
   "cell_type": "code",
   "execution_count": 10,
   "id": "cff962ea",
   "metadata": {},
   "outputs": [
    {
     "name": "stdout",
     "output_type": "stream",
     "text": [
      "(3, 3) (3,) (4, 4)\n"
     ]
    }
   ],
   "source": [
    "u,s,vh = np.linalg.svd(a, full_matrices=True)\n",
    "print(u.shape,s.shape,vh.shape)"
   ]
  },
  {
   "cell_type": "code",
   "execution_count": 11,
   "id": "c2fdb994",
   "metadata": {},
   "outputs": [
    {
     "name": "stdout",
     "output_type": "stream",
     "text": [
      "[[ 1.  0.  0.]\n",
      " [ 0.  1. -0.]\n",
      " [ 0. -0.  1.]]\n"
     ]
    }
   ],
   "source": [
    "print(u.dot(u.T))"
   ]
  },
  {
   "cell_type": "markdown",
   "id": "d3e87600",
   "metadata": {},
   "source": [
    "In the above statement we are checking that u is a orthogonal matrix. so if you multiply a orthogonal matrix with it's transpose then you will get an Identity matrix. Shape property is holds the shape of the matrix."
   ]
  },
  {
   "cell_type": "markdown",
   "id": "deac4a9a",
   "metadata": {},
   "source": [
    "Now we need to make s a 3x4 matrix. Since S is a given simply as a 3 element numpy array, we need to reshape it into a 3x4 array with the 3 elements along it's diagonal"
   ]
  },
  {
   "cell_type": "code",
   "execution_count": 12,
   "id": "952db120",
   "metadata": {},
   "outputs": [
    {
     "name": "stdout",
     "output_type": "stream",
     "text": [
      "[[6.7509 0.     0.    ]\n",
      " [0.     1.1734 0.    ]\n",
      " [0.     0.     0.2186]]\n"
     ]
    }
   ],
   "source": [
    "sd=np.diag(s)\n",
    "print(sd)"
   ]
  },
  {
   "cell_type": "code",
   "execution_count": 13,
   "id": "ef879b0a",
   "metadata": {},
   "outputs": [
    {
     "name": "stdout",
     "output_type": "stream",
     "text": [
      "[[6.7509 0.     0.     0.    ]\n",
      " [0.     1.1734 0.     0.    ]\n",
      " [0.     0.     0.2186 0.    ]]\n"
     ]
    }
   ],
   "source": [
    "b=np.zeros((3,4))\n",
    "b[:,:-1]=sd\n",
    "print(b)"
   ]
  },
  {
   "cell_type": "markdown",
   "id": "53e5d3df",
   "metadata": {},
   "source": [
    "Now we have u, sigma and v transpose then let's apply the svd formula and reconstruct the matrix"
   ]
  },
  {
   "cell_type": "code",
   "execution_count": 16,
   "id": "85c8b559",
   "metadata": {},
   "outputs": [
    {
     "name": "stdout",
     "output_type": "stream",
     "text": [
      "[[ 1.  2.  3.  4.]\n",
      " [ 1.  1.  2.  3.]\n",
      " [ 0.  1.  1. -0.]]\n"
     ]
    }
   ],
   "source": [
    "svdr=np.dot(np.dot(u,b),vh)\n",
    "print(svdr)"
   ]
  },
  {
   "cell_type": "markdown",
   "id": "eda1b1ec",
   "metadata": {},
   "source": [
    "Now we have the same matrix that proves the svd formula that A=uxsigmaxvT"
   ]
  },
  {
   "cell_type": "markdown",
   "id": "d2f1b128",
   "metadata": {},
   "source": [
    "Now, Let's calculate the 2 rank apprximation the matrix A"
   ]
  },
  {
   "cell_type": "markdown",
   "id": "86f48d1e",
   "metadata": {},
   "source": [
    "so, 2 rank approximation can be made by making the 3rd singular value as zero."
   ]
  },
  {
   "cell_type": "code",
   "execution_count": 17,
   "id": "6587df82",
   "metadata": {},
   "outputs": [
    {
     "name": "stdout",
     "output_type": "stream",
     "text": [
      "[6.7509429737293525, 1.1734412499397089, 0]\n"
     ]
    }
   ],
   "source": [
    "ns=[s[0],s[1],0]\n",
    "print(ns)"
   ]
  },
  {
   "cell_type": "code",
   "execution_count": 19,
   "id": "dff960aa",
   "metadata": {},
   "outputs": [
    {
     "name": "stdout",
     "output_type": "stream",
     "text": [
      "[[6.7509 0.     0.    ]\n",
      " [0.     1.1734 0.    ]\n",
      " [0.     0.     0.    ]]\n"
     ]
    }
   ],
   "source": [
    "sd=np.diag(ns)\n",
    "print(sd)"
   ]
  },
  {
   "cell_type": "code",
   "execution_count": 20,
   "id": "58d8f803",
   "metadata": {},
   "outputs": [
    {
     "name": "stdout",
     "output_type": "stream",
     "text": [
      "[[6.7509 0.     0.     0.    ]\n",
      " [0.     1.1734 0.     0.    ]\n",
      " [0.     0.     0.     0.    ]]\n"
     ]
    }
   ],
   "source": [
    "b=np.zeros((3,4))\n",
    "b[:,:-1]=sd\n",
    "print(b)"
   ]
  },
  {
   "cell_type": "code",
   "execution_count": 21,
   "id": "a95cad42",
   "metadata": {},
   "outputs": [
    {
     "name": "stdout",
     "output_type": "stream",
     "text": [
      "[[ 1.096   1.9567  3.0526  3.9542]\n",
      " [ 0.8764  1.0558  1.9322  3.0589]\n",
      " [-0.0559  1.0252  0.9693  0.0267]]\n"
     ]
    }
   ],
   "source": [
    "svdr=np.dot(np.dot(u,b),vh)\n",
    "print(svdr)"
   ]
  }
 ],
 "metadata": {
  "kernelspec": {
   "display_name": "Python 3 (ipykernel)",
   "language": "python",
   "name": "python3"
  },
  "language_info": {
   "codemirror_mode": {
    "name": "ipython",
    "version": 3
   },
   "file_extension": ".py",
   "mimetype": "text/x-python",
   "name": "python",
   "nbconvert_exporter": "python",
   "pygments_lexer": "ipython3",
   "version": "3.11.4"
  }
 },
 "nbformat": 4,
 "nbformat_minor": 5
}
