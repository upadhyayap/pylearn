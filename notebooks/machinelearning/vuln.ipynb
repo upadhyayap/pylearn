{
 "cells": [
  {
   "cell_type": "code",
   "execution_count": 43,
   "metadata": {},
   "outputs": [],
   "source": [
    "import pandas as pd"
   ]
  },
  {
   "cell_type": "code",
   "execution_count": 44,
   "metadata": {},
   "outputs": [
    {
     "name": "stdout",
     "output_type": "stream",
     "text": [
      "(44972, 6)\n",
      "Total error values in upstream_version column\n",
      "1\n",
      "total error values for debian is 1 with percentage 0.0022236057991639243\n",
      "Failed version ranges\n",
      "<end-of-life>\n"
     ]
    }
   ],
   "source": [
    "vulns = pd.read_csv('csv path')\n",
    "print(vulns.shape)\n",
    "errcount = 0\n",
    "errors = {}\n",
    "versionErrors = {}\n",
    "for index, row in vulns.iterrows():\n",
    "    if row['major.minor.patch'] == 'error':\n",
    "        errcount += 1\n",
    "        ecosystem = row['eco']\n",
    "        if ecosystem not in errors:\n",
    "            errors[ecosystem] = 1\n",
    "        else:\n",
    "            errors[ecosystem] += 1\n",
    "        versionErrors[row['version_range']] = row['version_range']\n",
    "\n",
    "print('Total error values in upstream_version column')\n",
    "print(errcount)\n",
    "\n",
    "for key, value in errors.items():\n",
    "    print('total error values for ' + key+ ' is ' + str(value)+ ' with percentage ' + str(value/vulns.shape[0] * 100))\n",
    "\n",
    "print('Failed version ranges')\n",
    "for key, value in versionErrors.items():\n",
    "    print(key)"
   ]
  }
 ],
 "metadata": {
  "kernelspec": {
   "display_name": "Python 3 (ipykernel)",
   "language": "python",
   "name": "python3"
  }
 },
 "nbformat": 4,
 "nbformat_minor": 2
}
