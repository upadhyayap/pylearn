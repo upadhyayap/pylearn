{
 "cells": [
  {
   "cell_type": "markdown",
   "metadata": {},
   "source": [
    "### Calculus\n",
    "sympy is the library to do calculus in python"
   ]
  },
  {
   "cell_type": "code",
   "execution_count": 2,
   "metadata": {},
   "outputs": [],
   "source": [
    "import sympy as sym"
   ]
  },
  {
   "cell_type": "code",
   "execution_count": 3,
   "metadata": {},
   "outputs": [
    {
     "name": "stdout",
     "output_type": "stream",
     "text": [
      "cos(x)\n"
     ]
    }
   ],
   "source": [
    "# calculating the derivative of a single variable function\n",
    "x = sym.symbols('x')\n",
    "derivative1 = sym.diff(sym.sin(x), x)\n",
    "print(derivative1)"
   ]
  },
  {
   "cell_type": "code",
   "execution_count": 7,
   "metadata": {},
   "outputs": [
    {
     "name": "stdout",
     "output_type": "stream",
     "text": [
      "2*x*exp(x**2) + 2*sin(x)*cos(x)\n",
      "2*(2*x**2*exp(x**2) + exp(x**2) - sin(x)**2 + cos(x)**2)\n"
     ]
    }
   ],
   "source": [
    "# define your own function and calculate the derivative wrt to that function\n",
    "fn = sym.sin(x)**2 + sym.exp(x**2)\n",
    "dv = sym.diff(fn, x)\n",
    "print(dv)\n",
    "\n",
    "## find the scond order derivative\n",
    "dv2 = sym.diff(fn, x, 2)\n",
    "print(dv2)"
   ]
  },
  {
   "cell_type": "code",
   "execution_count": 11,
   "metadata": {},
   "outputs": [
    {
     "name": "stdout",
     "output_type": "stream",
     "text": [
      "3*x**2*y\n",
      "x**3 + 2*y*z**3\n",
      "6*x*y\n",
      "3*x**2\n"
     ]
    }
   ],
   "source": [
    "# functions of multiple variables\n",
    "x, y, z = sym.symbols('x y z')\n",
    "fn = x**3*y+y**2*z**3\n",
    "# derivative wrt to x\n",
    "dv = sym.diff(fn, x)\n",
    "print(dv)\n",
    "\n",
    "# derivative wrt to y\n",
    "dv = sym.diff(fn, y)\n",
    "print(dv)\n",
    "\n",
    "# second partial derivative wrt x\n",
    "dv2 = sym.diff(fn, x, x)\n",
    "print(dv2)\n",
    "\n",
    "# second partial derivative wrt x, y\n",
    "dvxy = sym.diff(fn, x, y)\n",
    "print(dvxy)"
   ]
  },
  {
   "cell_type": "code",
   "execution_count": 15,
   "metadata": {},
   "outputs": [
    {
     "name": "stdout",
     "output_type": "stream",
     "text": [
      "1/3\n",
      "1\n",
      "1/4\n"
     ]
    }
   ],
   "source": [
    "# integration of a function wrt to a x\n",
    "fn = x**2\n",
    "integral = sym.integrate(fn, (x, 0, 1))\n",
    "print(integral)\n",
    "\n",
    "# integration of a function wrt to a x from 0 to infinity\n",
    "fn = sym.exp(-x)\n",
    "integral = sym.integrate(fn, (x, 0, sym.oo))\n",
    "print(integral)\n",
    "\n",
    "## double integral which is always definite.\n",
    "fn = x*y\n",
    "integral = sym.integrate(fn, (x, 0, 1), (y, 0, 1))\n",
    "print(integral)"
   ]
  },
  {
   "cell_type": "code",
   "execution_count": 16,
   "metadata": {},
   "outputs": [
    {
     "name": "stdout",
     "output_type": "stream",
     "text": [
      "0\n"
     ]
    }
   ],
   "source": [
    "# limts\n",
    "fn = x**2\n",
    "limit = sym.limit(fn, x, 0)\n",
    "print(limit)"
   ]
  },
  {
   "cell_type": "code",
   "execution_count": 18,
   "metadata": {},
   "outputs": [
    {
     "name": "stdout",
     "output_type": "stream",
     "text": [
      "1 - x**2/2 + x**4/24 - x**6/720 + x**8/40320 + O(x**10)\n",
      "{x: 4, y: 1}\n"
     ]
    }
   ],
   "source": [
    "# series expansion\n",
    "fn = sym.cos(x)\n",
    "series = sym.series(fn, x, 0, 10)\n",
    "print(series)\n",
    "\n",
    "# solve an equation with two variables\n",
    "x, y = sym.symbols('x y')\n",
    "eq1 = sym.Eq(x + y, 5)\n",
    "eq2 = sym.Eq(x - y, 3)\n",
    "sol = sym.solve((eq1, eq2), (x, y))\n",
    "print(sol)"
   ]
  },
  {
   "cell_type": "code",
   "execution_count": 23,
   "metadata": {},
   "outputs": [
    {
     "name": "stdout",
     "output_type": "stream",
     "text": [
      "{x: 5/2, y: -1/2, z: -1}\n"
     ]
    }
   ],
   "source": [
    "# solve a system of equations\n",
    "x, y, z = sym.symbols('x y z')\n",
    "eq1 = sym.Eq(x + y + z, 1)\n",
    "eq2 = sym.Eq(x - y + z, 2)\n",
    "eq3 = sym.Eq(x + y - z, 3)\n",
    "sol = sym.solve((eq1, eq2, eq3), (x, y, z))\n",
    "print(sol)"
   ]
  }
 ],
 "metadata": {
  "kernelspec": {
   "display_name": "Python 3 (ipykernel)",
   "language": "python",
   "name": "python3"
  }
 },
 "nbformat": 4,
 "nbformat_minor": 2
}
