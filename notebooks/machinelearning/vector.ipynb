{
 "cells": [
  {
   "cell_type": "code",
   "execution_count": 5,
   "id": "eb237f79",
   "metadata": {},
   "outputs": [],
   "source": [
    "import numpy as np"
   ]
  },
  {
   "cell_type": "markdown",
   "id": "4984f12d",
   "metadata": {},
   "source": [
    "#### Arrays are 1 dimentional vectors"
   ]
  },
  {
   "cell_type": "code",
   "execution_count": 8,
   "id": "dc609141",
   "metadata": {},
   "outputs": [
    {
     "name": "stdout",
     "output_type": "stream",
     "text": [
      "[3 4 4]\n"
     ]
    }
   ],
   "source": [
    "v=np.array([1,-1,2])\n",
    "w=np.array([2,5,2])\n",
    "print(v+w)"
   ]
  },
  {
   "cell_type": "code",
   "execution_count": 9,
   "id": "cb1db324",
   "metadata": {},
   "outputs": [
    {
     "name": "stdout",
     "output_type": "stream",
     "text": [
      "[ 2 -5  4]\n"
     ]
    }
   ],
   "source": [
    "print(v*w)"
   ]
  },
  {
   "cell_type": "code",
   "execution_count": 11,
   "id": "9c24bac0",
   "metadata": {},
   "outputs": [
    {
     "name": "stdout",
     "output_type": "stream",
     "text": [
      "3\n"
     ]
    }
   ],
   "source": [
    "print(len(v))"
   ]
  },
  {
   "cell_type": "markdown",
   "id": "1774c1f1",
   "metadata": {},
   "source": [
    "#### Length of a vector. linalg is linear algebra package in numpy"
   ]
  },
  {
   "cell_type": "code",
   "execution_count": 14,
   "id": "20d7623d",
   "metadata": {},
   "outputs": [
    {
     "data": {
      "text/plain": [
       "2.449489742783178"
      ]
     },
     "execution_count": 14,
     "metadata": {},
     "output_type": "execute_result"
    }
   ],
   "source": [
    "np.linalg.norm(v)"
   ]
  },
  {
   "cell_type": "markdown",
   "id": "ef8776de",
   "metadata": {},
   "source": [
    "#### Dot product of a vector"
   ]
  },
  {
   "cell_type": "code",
   "execution_count": 15,
   "id": "334b7712",
   "metadata": {},
   "outputs": [
    {
     "data": {
      "text/plain": [
       "1"
      ]
     },
     "execution_count": 15,
     "metadata": {},
     "output_type": "execute_result"
    }
   ],
   "source": [
    "np.dot(v,w)"
   ]
  },
  {
   "cell_type": "code",
   "execution_count": null,
   "id": "33048784",
   "metadata": {},
   "outputs": [],
   "source": []
  }
 ],
 "metadata": {
  "kernelspec": {
   "display_name": "Python 3 (ipykernel)",
   "language": "python",
   "name": "python3"
  },
  "language_info": {
   "codemirror_mode": {
    "name": "ipython",
    "version": 3
   },
   "file_extension": ".py",
   "mimetype": "text/x-python",
   "name": "python",
   "nbconvert_exporter": "python",
   "pygments_lexer": "ipython3",
   "version": "3.8.9"
  }
 },
 "nbformat": 4,
 "nbformat_minor": 5
}
