{
 "cells": [
  {
   "cell_type": "markdown",
   "id": "35b353c3",
   "metadata": {},
   "source": [
    "### Principal component analysis"
   ]
  },
  {
   "cell_type": "markdown",
   "id": "cbaec950",
   "metadata": {},
   "source": [
    " #### Creating data"
   ]
  },
  {
   "cell_type": "code",
   "execution_count": 25,
   "id": "38343a1b",
   "metadata": {},
   "outputs": [],
   "source": [
    "import numpy as np\n",
    "import matplotlib.pyplot as plt"
   ]
  },
  {
   "cell_type": "code",
   "execution_count": 26,
   "id": "bd9140e3",
   "metadata": {},
   "outputs": [
    {
     "name": "stdout",
     "output_type": "stream",
     "text": [
      "[[ 1  3  5  7  9 13 20 20 21 24 26]\n",
      " [ 5  7 11 14 15 17 18 19 21 22 26]]\n"
     ]
    }
   ],
   "source": [
    "x=np.array([[1,3,5,7,9,13,20,20,21,24,26],[5,7,11,14,15,17,18,19,21,22,26]])\n",
    "print(x)"
   ]
  },
  {
   "cell_type": "code",
   "execution_count": 27,
   "id": "028113ac",
   "metadata": {},
   "outputs": [
    {
     "name": "stdout",
     "output_type": "stream",
     "text": [
      "[[ 1  5]\n",
      " [ 3  7]\n",
      " [ 5 11]\n",
      " [ 7 14]\n",
      " [ 9 15]\n",
      " [13 17]\n",
      " [20 18]\n",
      " [20 19]\n",
      " [21 21]\n",
      " [24 22]\n",
      " [26 26]]\n"
     ]
    }
   ],
   "source": [
    "x=x.T\n",
    "print(x)"
   ]
  },
  {
   "cell_type": "markdown",
   "id": "00c3dcfe",
   "metadata": {},
   "source": [
    "The goal is to reduce this data set into 1 dimentional data set"
   ]
  },
  {
   "cell_type": "code",
   "execution_count": 28,
   "id": "54626b7a",
   "metadata": {},
   "outputs": [
    {
     "data": {
      "text/plain": [
       "<matplotlib.collections.PathCollection at 0x13458ae90>"
      ]
     },
     "execution_count": 28,
     "metadata": {},
     "output_type": "execute_result"
    },
    {
     "data": {
      "image/png": "[encoded data removed]",
      "text/plain": [
       "<Figure size 640x480 with 1 Axes>"
      ]
     },
     "metadata": {},
     "output_type": "display_data"
    }
   ],
   "source": [
    "plt.scatter(x[:,0],x[:,1])"
   ]
  },
  {
   "cell_type": "markdown",
   "id": "6a8637f2",
   "metadata": {},
   "source": [
    "normalise the data by shifting the mean to zero"
   ]
  },
  {
   "cell_type": "code",
   "execution_count": 29,
   "id": "c3fc0b9a",
   "metadata": {},
   "outputs": [
    {
     "name": "stdout",
     "output_type": "stream",
     "text": [
      "[[-12.54545455 -10.90909091]\n",
      " [-10.54545455  -8.90909091]\n",
      " [ -8.54545455  -4.90909091]\n",
      " [ -6.54545455  -1.90909091]\n",
      " [ -4.54545455  -0.90909091]\n",
      " [ -0.54545455   1.09090909]\n",
      " [  6.45454545   2.09090909]\n",
      " [  6.45454545   3.09090909]\n",
      " [  7.45454545   5.09090909]\n",
      " [ 10.45454545   6.09090909]\n",
      " [ 12.45454545  10.09090909]]\n"
     ]
    }
   ],
   "source": [
    "x_meaned=x-np.mean(x, axis=0)\n",
    "print(x_meaned)"
   ]
  },
  {
   "cell_type": "code",
   "execution_count": 30,
   "id": "00f62881",
   "metadata": {},
   "outputs": [
    {
     "data": {
      "text/plain": [
       "<matplotlib.collections.PathCollection at 0x1346d2fd0>"
      ]
     },
     "execution_count": 30,
     "metadata": {},
     "output_type": "execute_result"
    },
    {
     "data": {
      "image/png": "[encoded data removed]",
      "text/plain": [
       "<Figure size 640x480 with 1 Axes>"
      ]
     },
     "metadata": {},
     "output_type": "display_data"
    }
   ],
   "source": [
    "plt.figure\n",
    "plt.scatter(x_meaned[:,0],x_meaned[:,1])\n",
    "plt.scatter(x[:,0],x[:,1])"
   ]
  },
  {
   "cell_type": "code",
   "execution_count": 31,
   "id": "5781e204",
   "metadata": {},
   "outputs": [
    {
     "name": "stdout",
     "output_type": "stream",
     "text": [
      "[[80.87272727 54.95454545]\n",
      " [54.95454545 40.69090909]]\n"
     ]
    }
   ],
   "source": [
    "c=np.cov(x_meaned, rowvar=False)\n",
    "print(c)"
   ]
  },
  {
   "cell_type": "code",
   "execution_count": 32,
   "id": "13ec4cad",
   "metadata": {},
   "outputs": [
    {
     "name": "stdout",
     "output_type": "stream",
     "text": [
      "[119.29375452   2.26988184]\n"
     ]
    }
   ],
   "source": [
    "evalue, evec = np.linalg.eig(c)\n",
    "print(evalue)"
   ]
  },
  {
   "cell_type": "code",
   "execution_count": 33,
   "id": "21257566",
   "metadata": {},
   "outputs": [
    {
     "name": "stdout",
     "output_type": "stream",
     "text": [
      "[[ 0.81956216 -0.57299028]\n",
      " [ 0.57299028  0.81956216]]\n"
     ]
    }
   ],
   "source": [
    "print(evec)"
   ]
  },
  {
   "cell_type": "code",
   "execution_count": 34,
   "id": "7c2bd066",
   "metadata": {},
   "outputs": [
    {
     "name": "stdout",
     "output_type": "stream",
     "text": [
      "[119.29375452   2.26988184]\n"
     ]
    }
   ],
   "source": [
    "sorted_index=np.argsort(evalue)[::-1]\n",
    "sorted_eval=evalue[sorted_index]\n",
    "print(sorted_eval)"
   ]
  },
  {
   "cell_type": "code",
   "execution_count": 35,
   "id": "ec15b28c",
   "metadata": {},
   "outputs": [
    {
     "name": "stdout",
     "output_type": "stream",
     "text": [
      "[[ 0.81956216 -0.57299028]\n",
      " [ 0.57299028  0.81956216]]\n"
     ]
    }
   ],
   "source": [
    "sorted_evec = evec[:,sorted_index]\n",
    "print(sorted_evec)"
   ]
  },
  {
   "cell_type": "code",
   "execution_count": null,
   "id": "1cb2e194",
   "metadata": {},
   "outputs": [],
   "source": []
  }
 ],
 "metadata": {
  "kernelspec": {
   "display_name": "Python 3 (ipykernel)",
   "language": "python",
   "name": "python3"
  },
  "language_info": {
   "codemirror_mode": {
    "name": "ipython",
    "version": 3
   },
   "file_extension": ".py",
   "mimetype": "text/x-python",
   "name": "python",
   "nbconvert_exporter": "python",
   "pygments_lexer": "ipython3",
   "version": "3.11.4"
  }
 },
 "nbformat": 4,
 "nbformat_minor": 5
}
